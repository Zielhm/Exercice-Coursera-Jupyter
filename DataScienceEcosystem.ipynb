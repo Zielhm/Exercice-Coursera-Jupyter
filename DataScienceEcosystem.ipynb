{
 "cells": [
  {
   "cell_type": "markdown",
   "id": "a3c6c69e-3a84-4de1-bc08-ba35d95b4ec4",
   "metadata": {},
   "source": [
    "# Data Science Tools and Ecosystem"
   ]
  },
  {
   "cell_type": "markdown",
   "id": "0b09660c-4a13-4639-b2f1-6c8e97a976fb",
   "metadata": {},
   "source": [
    "## **Objectives:**\n",
    "- List popular languages for Data Science\n",
    "- List Libraries,\n",
    "- List tools,\n",
    "- List some example of arithmetic."
   ]
  },
  {
   "cell_type": "markdown",
   "id": "86327e2b-26f2-459e-8458-d737963f5554",
   "metadata": {},
   "source": [
    "In this notebook, Data Science Tools and Ecosystem are summarized."
   ]
  },
  {
   "cell_type": "markdown",
   "id": "7a00d90c-e3ed-4a1d-8a91-03984965e588",
   "metadata": {},
   "source": [
    "Some of the popular languages that Data Scientists use are:\n",
    "1. Python\n",
    "2. R\n",
    "3. SQL"
   ]
  },
  {
   "cell_type": "markdown",
   "id": "cfa5adec-5d16-4e69-bd51-6b19e7cdfe72",
   "metadata": {},
   "source": [
    "Some of the commonly used libraries used by Data Scientists include:\n",
    "1. Pandas\n",
    "2. Numpy\n",
    "3. Keras"
   ]
  },
  {
   "cell_type": "markdown",
   "id": "07d91896-26e8-4c5d-a29c-c2f5795e1b7d",
   "metadata": {},
   "source": [
    "| Data Science Tools | \n",
    "| -------------| \n",
    "| Jupyter Notebook |\n",
    "| Anaconda |\n",
    "| R Studio |"
   ]
  },
  {
   "cell_type": "markdown",
   "id": "e1f2d59a-ce3e-49b6-a33f-b9ed3dfc3aa7",
   "metadata": {},
   "source": [
    "### Below are a few examples of evaluating arithmetic expressions in Python"
   ]
  },
  {
   "cell_type": "code",
   "execution_count": 32,
   "id": "f00d1f96-6009-4e55-b25e-a7585d205543",
   "metadata": {},
   "outputs": [
    {
     "data": {
      "text/plain": [
       "17"
      ]
     },
     "execution_count": 32,
     "metadata": {},
     "output_type": "execute_result"
    }
   ],
   "source": [
    "(3*4)+5"
   ]
  },
  {
   "cell_type": "code",
   "execution_count": 33,
   "id": "e617f392-f72b-413f-9e58-bd02b07da00d",
   "metadata": {},
   "outputs": [
    {
     "data": {
      "text/plain": [
       "3.3333333333333335"
      ]
     },
     "execution_count": 33,
     "metadata": {},
     "output_type": "execute_result"
    }
   ],
   "source": [
    "# This will convert 200 minutes to hours by diving by 60\n",
    "200/60"
   ]
  },
  {
   "cell_type": "markdown",
   "id": "4b00b0e2-b6c4-4433-b39d-1304fb628f1e",
   "metadata": {},
   "source": [
    "## Author: \n",
    "Florian BONILLO"
   ]
  },
  {
   "cell_type": "code",
   "execution_count": null,
   "id": "56da86cb-63cf-40cd-8518-10dc4b115906",
   "metadata": {},
   "outputs": [],
   "source": []
  }
 ],
 "metadata": {
  "kernelspec": {
   "display_name": "Python 3 (ipykernel)",
   "language": "python",
   "name": "python3"
  },
  "language_info": {
   "codemirror_mode": {
    "name": "ipython",
    "version": 3
   },
   "file_extension": ".py",
   "mimetype": "text/x-python",
   "name": "python",
   "nbconvert_exporter": "python",
   "pygments_lexer": "ipython3",
   "version": "3.12.1"
  }
 },
 "nbformat": 4,
 "nbformat_minor": 5
}
